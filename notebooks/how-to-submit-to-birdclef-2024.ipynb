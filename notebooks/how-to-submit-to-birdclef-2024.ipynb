{
 "cells": [
  {
   "cell_type": "markdown",
   "id": "ea157a83",
   "metadata": {
    "papermill": {
     "duration": 0.003,
     "end_time": "2024-04-05T08:21:11.792785",
     "exception": false,
     "start_time": "2024-04-05T08:21:11.789785",
     "status": "completed"
    },
    "tags": []
   },
   "source": [
    "Code modified from [STEFAN KAHL](https://www.kaggle.com/stefankahl)'s [How to submit to BirdCLEF 2023](https://www.kaggle.com/code/stefankahl/how-to-submit-to-birdclef-2023). "
   ]
  },
  {
   "cell_type": "code",
   "execution_count": 1,
   "id": "2c1100e6",
   "metadata": {
    "execution": {
     "iopub.execute_input": "2024-04-05T08:21:11.800142Z",
     "iopub.status.busy": "2024-04-05T08:21:11.799646Z",
     "iopub.status.idle": "2024-04-05T08:21:12.845957Z",
     "shell.execute_reply": "2024-04-05T08:21:12.844744Z"
    },
    "papermill": {
     "duration": 1.053295,
     "end_time": "2024-04-05T08:21:12.848730",
     "exception": false,
     "start_time": "2024-04-05T08:21:11.795435",
     "status": "completed"
    },
    "tags": []
   },
   "outputs": [
    {
     "name": "stdout",
     "output_type": "stream",
     "text": [
      "Number of test soundscapes: 1\n"
     ]
    }
   ],
   "source": [
    "import os\n",
    "import numpy as np\n",
    "import pandas as pd\n",
    "\n",
    "def extract_numbers(row_id):\n",
    "    parts = row_id.split('_')\n",
    "    return parts[1]\n",
    "\n",
    "# First, load list of audio files by parsing the test_soundscape folder.\n",
    "test_audio_dir = '../input/birdclef-2024/test_soundscapes/'\n",
    "test_df = pd.read_csv('/kaggle/input/birdclef-2024/sample_submission.csv')\n",
    "\n",
    "test_df['numbers'] = test_df['row_id'].apply(extract_numbers)\n",
    "file_list = test_df['numbers'].unique().tolist()\n",
    "print('Number of test soundscapes:', len(file_list))"
   ]
  },
  {
   "cell_type": "code",
   "execution_count": 2,
   "id": "68e30086",
   "metadata": {
    "execution": {
     "iopub.execute_input": "2024-04-05T08:21:12.856726Z",
     "iopub.status.busy": "2024-04-05T08:21:12.855588Z",
     "iopub.status.idle": "2024-04-05T08:21:12.885935Z",
     "shell.execute_reply": "2024-04-05T08:21:12.884738Z"
    },
    "papermill": {
     "duration": 0.037352,
     "end_time": "2024-04-05T08:21:12.888842",
     "exception": false,
     "start_time": "2024-04-05T08:21:12.851490",
     "status": "completed"
    },
    "tags": []
   },
   "outputs": [],
   "source": [
    "# This is where we will store our results\n",
    "pred = {'row_id': []}\n",
    "train_audio_dir = '../input/birdclef-2024/train_audio/'\n",
    "species_list = sorted(os.listdir(train_audio_dir))\n",
    "for species_code in species_list:\n",
    "    pred[species_code] = []\n",
    "\n",
    "# Process audio files and make predictions\n",
    "for afile in file_list:\n",
    "    \n",
    "    # Complete file path\n",
    "    path = test_audio_dir + 'soundscapes_' + afile + '.ogg'\n",
    "    \n",
    "    # Open file with librosa and split signal into 5-second chunks\n",
    "    # sig, rate = librosa.load(path, sr=32000)\n",
    "    # ...\n",
    "    \n",
    "    num_chunks = len(test_df[test_df['row_id'].str.contains(afile)]['row_id'].tolist())\n",
    "    chunks = [[] for i in range(num_chunks)]\n",
    "    \n",
    "    # Make prediction for each chunk\n",
    "    # Each bird gets a random value in our case\n",
    "    # since we don't actually have a model\n",
    "    for i in range(len(chunks)):        \n",
    "        chunk_end_time = (i + 1) * 5\n",
    "        \n",
    "        # Assign the row_id which we need to do for each chunk\n",
    "        row_id = 'soundscape_' + afile + '_' + str(chunk_end_time)\n",
    "        pred['row_id'].append(row_id)\n",
    "        \n",
    "        for bird in species_list:\n",
    "            \n",
    "            # This is our random prediction score for this bird\n",
    "            score = np.random.uniform()     \n",
    "            \n",
    "            # Put the result into our prediction dict            \n",
    "            pred[bird].append(score)"
   ]
  },
  {
   "cell_type": "code",
   "execution_count": 3,
   "id": "16f7aefc",
   "metadata": {
    "execution": {
     "iopub.execute_input": "2024-04-05T08:21:12.896260Z",
     "iopub.status.busy": "2024-04-05T08:21:12.895854Z",
     "iopub.status.idle": "2024-04-05T08:21:12.932409Z",
     "shell.execute_reply": "2024-04-05T08:21:12.931261Z"
    },
    "papermill": {
     "duration": 0.043343,
     "end_time": "2024-04-05T08:21:12.934972",
     "exception": false,
     "start_time": "2024-04-05T08:21:12.891629",
     "status": "completed"
    },
    "tags": []
   },
   "outputs": [
    {
     "name": "stdout",
     "output_type": "stream",
     "text": [
      "                  row_id    asbfly   ashdro1   ashpri1   ashwoo2   asikoe2  \\\n",
      "0   soundscape_1446779_5  0.428441  0.552646  0.027222  0.916861  0.906613   \n",
      "1  soundscape_1446779_10  0.413254  0.328315  0.311110  0.107907  0.810310   \n",
      "2  soundscape_1446779_15  0.772658  0.194165  0.248085  0.576682  0.825783   \n",
      "\n",
      "    asiope1   aspfly1   aspswi1   barfly1  ...   whbwoo2   whcbar1   whiter2  \\\n",
      "0  0.062372  0.084937  0.241112  0.849557  ...  0.154182  0.754416  0.204405   \n",
      "1  0.423391  0.286027  0.393873  0.955669  ...  0.194327  0.460120  0.080039   \n",
      "2  0.946094  0.725439  0.604485  0.416688  ...  0.237160  0.435801  0.636235   \n",
      "\n",
      "     whrmun   whtkin2    woosan   wynlau1   yebbab1   yebbul3   zitcis1  \n",
      "0  0.641561  0.467058  0.975736  0.665595  0.869848  0.099262  0.699513  \n",
      "1  0.429280  0.949276  0.588427  0.200515  0.388003  0.682840  0.964211  \n",
      "2  0.214108  0.762483  0.781339  0.041413  0.495233  0.957449  0.445814  \n",
      "\n",
      "[3 rows x 183 columns]\n"
     ]
    }
   ],
   "source": [
    "# Make a new data frame and look at some results        \n",
    "results = pd.DataFrame(pred, columns = ['row_id'] + species_list)\n",
    "\n",
    "# Quick sanity check\n",
    "print(results.head()) \n",
    "    \n",
    "# Convert our results to csv\n",
    "results.to_csv(\"submission.csv\", index=False)    "
   ]
  }
 ],
 "metadata": {
  "kaggle": {
   "accelerator": "none",
   "dataSources": [
    {
     "databundleVersionId": 8068726,
     "sourceId": 70203,
     "sourceType": "competition"
    }
   ],
   "dockerImageVersionId": 30673,
   "isGpuEnabled": false,
   "isInternetEnabled": false,
   "language": "python",
   "sourceType": "notebook"
  },
  "kernelspec": {
   "display_name": "Python 3",
   "language": "python",
   "name": "python3"
  },
  "language_info": {
   "codemirror_mode": {
    "name": "ipython",
    "version": 3
   },
   "file_extension": ".py",
   "mimetype": "text/x-python",
   "name": "python",
   "nbconvert_exporter": "python",
   "pygments_lexer": "ipython3",
   "version": "3.10.13"
  },
  "papermill": {
   "default_parameters": {},
   "duration": 4.844652,
   "end_time": "2024-04-05T08:21:13.459830",
   "environment_variables": {},
   "exception": null,
   "input_path": "__notebook__.ipynb",
   "output_path": "__notebook__.ipynb",
   "parameters": {},
   "start_time": "2024-04-05T08:21:08.615178",
   "version": "2.5.0"
  }
 },
 "nbformat": 4,
 "nbformat_minor": 5
}
