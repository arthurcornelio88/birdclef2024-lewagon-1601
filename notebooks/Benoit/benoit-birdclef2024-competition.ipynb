{
 "cells": [
  {
   "cell_type": "code",
   "execution_count": 1,
   "id": "ef836beb",
   "metadata": {
    "execution": {
     "iopub.execute_input": "2024-04-05T15:16:26.629407Z",
     "iopub.status.busy": "2024-04-05T15:16:26.628507Z",
     "iopub.status.idle": "2024-04-05T15:16:26.638890Z",
     "shell.execute_reply": "2024-04-05T15:16:26.638141Z"
    },
    "papermill": {
     "duration": 0.021495,
     "end_time": "2024-04-05T15:16:26.640718",
     "exception": false,
     "start_time": "2024-04-05T15:16:26.619223",
     "status": "completed"
    },
    "tags": []
   },
   "outputs": [],
   "source": [
    "kaggle = True\n",
    "submission = True # change to True before submitting"
   ]
  },
  {
   "cell_type": "markdown",
   "id": "2eb547b5",
   "metadata": {
    "papermill": {
     "duration": 0.005519,
     "end_time": "2024-04-05T15:16:26.652325",
     "exception": false,
     "start_time": "2024-04-05T15:16:26.646806",
     "status": "completed"
    },
    "tags": []
   },
   "source": [
    "## Imports"
   ]
  },
  {
   "cell_type": "code",
   "execution_count": 2,
   "id": "e66ea8a5",
   "metadata": {
    "execution": {
     "iopub.execute_input": "2024-04-05T15:16:26.665260Z",
     "iopub.status.busy": "2024-04-05T15:16:26.664633Z",
     "iopub.status.idle": "2024-04-05T15:16:28.929158Z",
     "shell.execute_reply": "2024-04-05T15:16:28.927836Z"
    },
    "papermill": {
     "duration": 2.27406,
     "end_time": "2024-04-05T15:16:28.931939",
     "exception": false,
     "start_time": "2024-04-05T15:16:26.657879",
     "status": "completed"
    },
    "tags": []
   },
   "outputs": [],
   "source": [
    "import os\n",
    "import numpy as np\n",
    "import pandas as pd\n",
    "# from tqdm.notebook import tqdm # loading bar\n",
    "from tqdm import tqdm # loading bar\n",
    "\n",
    "import librosa\n",
    "\n",
    "from sklearn.model_selection import train_test_split\n",
    "from sklearn.preprocessing import LabelEncoder\n",
    "\n",
    "from sklearn.ensemble import RandomForestClassifier"
   ]
  },
  {
   "cell_type": "markdown",
   "id": "dd3a2320",
   "metadata": {
    "papermill": {
     "duration": 0.005588,
     "end_time": "2024-04-05T15:16:28.943857",
     "exception": false,
     "start_time": "2024-04-05T15:16:28.938269",
     "status": "completed"
    },
    "tags": []
   },
   "source": [
    "## Training"
   ]
  },
  {
   "cell_type": "code",
   "execution_count": 3,
   "id": "e45d0207",
   "metadata": {
    "execution": {
     "iopub.execute_input": "2024-04-05T15:16:28.956974Z",
     "iopub.status.busy": "2024-04-05T15:16:28.956426Z",
     "iopub.status.idle": "2024-04-05T15:16:28.962582Z",
     "shell.execute_reply": "2024-04-05T15:16:28.961412Z"
    },
    "papermill": {
     "duration": 0.015353,
     "end_time": "2024-04-05T15:16:28.964775",
     "exception": false,
     "start_time": "2024-04-05T15:16:28.949422",
     "status": "completed"
    },
    "tags": []
   },
   "outputs": [],
   "source": [
    "if kaggle:\n",
    "    DATA_DIR = '../input/birdclef-2024/'\n",
    "else:\n",
    "    DATA_DIR = \"../../data/raw\"\n",
    "    \n",
    "TRAIN_AUDIO_DIR = os.path.join(DATA_DIR, \"train_audio/\")\n",
    "\n",
    "if submission:\n",
    "    TEST_AUDIO_DIR = os.path.join(DATA_DIR,\"test_soundscapes/\")\n",
    "    \n",
    "else:\n",
    "    TEST_AUDIO_DIR = os.path.join(DATA_DIR,\"unlabeled_soundscapes/\")\n",
    "\n",
    "train_csv_path = os.path.join(DATA_DIR, \"train_metadata.csv\")\n",
    "# sample_submision_path = os.path.join(DATA_DIR, \"sample_submission.csv\")"
   ]
  },
  {
   "cell_type": "code",
   "execution_count": 4,
   "id": "a1be7037",
   "metadata": {
    "execution": {
     "iopub.execute_input": "2024-04-05T15:16:28.978054Z",
     "iopub.status.busy": "2024-04-05T15:16:28.977717Z",
     "iopub.status.idle": "2024-04-05T15:17:10.227893Z",
     "shell.execute_reply": "2024-04-05T15:17:10.226663Z"
    },
    "papermill": {
     "duration": 41.260266,
     "end_time": "2024-04-05T15:17:10.230769",
     "exception": false,
     "start_time": "2024-04-05T15:16:28.970503",
     "status": "completed"
    },
    "tags": []
   },
   "outputs": [],
   "source": [
    "train_df = pd.read_csv(train_csv_path)\n",
    "\n",
    "# Add complete filepath\n",
    "train_df['filepath'] = train_df.apply(lambda row: os.path.join(TRAIN_AUDIO_DIR, row['filename']), axis=1)\n",
    "\n",
    "# Filter out large files\n",
    "train_df['filesize'] = train_df.apply(lambda row: os.path.getsize(row['filepath']), axis=1)\n",
    "train_df = train_df[train_df['filesize'] < 1e6]"
   ]
  },
  {
   "cell_type": "code",
   "execution_count": 5,
   "id": "c859fd16",
   "metadata": {
    "execution": {
     "iopub.execute_input": "2024-04-05T15:17:10.244975Z",
     "iopub.status.busy": "2024-04-05T15:17:10.244231Z",
     "iopub.status.idle": "2024-04-05T15:17:10.836107Z",
     "shell.execute_reply": "2024-04-05T15:17:10.834915Z"
    },
    "papermill": {
     "duration": 0.601644,
     "end_time": "2024-04-05T15:17:10.838884",
     "exception": false,
     "start_time": "2024-04-05T15:17:10.237240",
     "status": "completed"
    },
    "tags": []
   },
   "outputs": [],
   "source": [
    "random_state = 43\n",
    "\n",
    "# Define the number of classes to keep\n",
    "\n",
    "if submission:\n",
    "    num_classes_to_keep = train_df['primary_label'].nunique()\n",
    "    # Define the fraction of data to keep for classes with more labels\n",
    "    fraction_to_keep = 0.05\n",
    "else:\n",
    "    num_classes_to_keep = 10\n",
    "    fraction_to_keep = 0.05\n",
    "\n",
    "# Calculate the minimum number of instances to keep for classes with fewer labels\n",
    "min_count = 50\n",
    "\n",
    "# Calculate weights to balance the classes\n",
    "class_weights = train_df['primary_label'].value_counts()\n",
    "\n",
    "# Select the top classes to keep based on their frequencies\n",
    "top_classes = class_weights.head(num_classes_to_keep).index.tolist()\n",
    "\n",
    "# Initialize an empty DataFrame to store the sampled subset\n",
    "train_subset_df = pd.DataFrame()\n",
    "\n",
    "# Iterate over each class\n",
    "for label, count in class_weights.items():\n",
    "    # Check if the class is in the top classes to keep\n",
    "    if label in top_classes:\n",
    "        # Check if the class has fewer labels than the minimum count\n",
    "        if count < min_count:\n",
    "            # Keep all instances for classes with fewer labels\n",
    "            subset = train_df[train_df['primary_label'] == label]\n",
    "        else:\n",
    "            # Randomly sample a fraction for classes with more labels\n",
    "            fraction = min(fraction_to_keep, min_count / count)  # Adjust fraction if necessary\n",
    "            subset = train_df[train_df['primary_label'] == label].sample(frac=fraction, random_state=random_state)\n",
    "        # Append the subset to the final DataFrame\n",
    "        train_subset_df = pd.concat([train_subset_df, subset])\n",
    "\n",
    "# Shuffle the final DataFrame to mix the classes\n",
    "train_subset_df = train_subset_df.sample(frac=1, random_state=random_state).reset_index(drop=True)"
   ]
  },
  {
   "cell_type": "code",
   "execution_count": 6,
   "id": "8e051f99",
   "metadata": {
    "execution": {
     "iopub.execute_input": "2024-04-05T15:17:10.852835Z",
     "iopub.status.busy": "2024-04-05T15:17:10.852171Z",
     "iopub.status.idle": "2024-04-05T15:17:10.862052Z",
     "shell.execute_reply": "2024-04-05T15:17:10.861023Z"
    },
    "papermill": {
     "duration": 0.020279,
     "end_time": "2024-04-05T15:17:10.865346",
     "exception": false,
     "start_time": "2024-04-05T15:17:10.845067",
     "status": "completed"
    },
    "tags": []
   },
   "outputs": [
    {
     "data": {
      "text/plain": [
       "primary_label\n",
       "emedov2    49\n",
       "grejun2    49\n",
       "rufwoo2    48\n",
       "junowl1    47\n",
       "pabflo1    47\n",
       "           ..\n",
       "grefla1     3\n",
       "gryfra      3\n",
       "insbab1     3\n",
       "pursun3     3\n",
       "grbeat1     3\n",
       "Name: count, Length: 182, dtype: int64"
      ]
     },
     "execution_count": 6,
     "metadata": {},
     "output_type": "execute_result"
    }
   ],
   "source": [
    "train_subset_df['primary_label'].value_counts()"
   ]
  },
  {
   "cell_type": "code",
   "execution_count": 7,
   "id": "e58e075d",
   "metadata": {
    "execution": {
     "iopub.execute_input": "2024-04-05T15:17:10.879099Z",
     "iopub.status.busy": "2024-04-05T15:17:10.878751Z",
     "iopub.status.idle": "2024-04-05T15:17:10.883980Z",
     "shell.execute_reply": "2024-04-05T15:17:10.883263Z"
    },
    "papermill": {
     "duration": 0.014481,
     "end_time": "2024-04-05T15:17:10.885817",
     "exception": false,
     "start_time": "2024-04-05T15:17:10.871336",
     "status": "completed"
    },
    "tags": []
   },
   "outputs": [],
   "source": [
    "if submission: # No train val split\n",
    "    X_train_files = train_subset_df.filepath\n",
    "    y_train = train_subset_df.primary_label\n",
    "else:\n",
    "    # Train val split\n",
    "    train_train_df, val_df = train_test_split(train_subset_df, test_size=0.3, stratify = train_subset_df.primary_label, random_state=random_state) \n",
    "    X_train_files = train_train_df.filepath\n",
    "    X_val_files = val_df.filepath\n",
    "\n",
    "    y_train = train_train_df.primary_label\n",
    "    y_val = val_df.primary_label"
   ]
  },
  {
   "cell_type": "markdown",
   "id": "923280c0",
   "metadata": {
    "papermill": {
     "duration": 0.006828,
     "end_time": "2024-04-05T15:17:10.898672",
     "exception": false,
     "start_time": "2024-04-05T15:17:10.891844",
     "status": "completed"
    },
    "tags": []
   },
   "source": [
    "### Features"
   ]
  },
  {
   "cell_type": "code",
   "execution_count": 8,
   "id": "ff3443bf",
   "metadata": {
    "execution": {
     "iopub.execute_input": "2024-04-05T15:17:10.914197Z",
     "iopub.status.busy": "2024-04-05T15:17:10.913587Z",
     "iopub.status.idle": "2024-04-05T15:17:10.919797Z",
     "shell.execute_reply": "2024-04-05T15:17:10.919067Z"
    },
    "papermill": {
     "duration": 0.017092,
     "end_time": "2024-04-05T15:17:10.921754",
     "exception": false,
     "start_time": "2024-04-05T15:17:10.904662",
     "status": "completed"
    },
    "tags": []
   },
   "outputs": [],
   "source": [
    "def extract_features(audio_data, sample_rate=32000, mfcc=True, chroma=True, mel=True):\n",
    "    result = np.array([])\n",
    "    if mfcc: # Mel-Frequency Cepstral Coefficients\n",
    "        mfccs = np.mean(librosa.feature.mfcc(y=audio_data, sr=sample_rate, n_mfcc=40).T, axis=0)\n",
    "        result = np.hstack((result, mfccs))\n",
    "    if chroma:\n",
    "        chroma = np.mean(librosa.feature.chroma_stft(y=audio_data, sr=sample_rate).T,axis=0)\n",
    "        result = np.hstack((result, chroma))\n",
    "    if mel:\n",
    "        mel = np.mean(librosa.feature.melspectrogram(y=audio_data, sr=sample_rate).T,axis=0)\n",
    "        result = np.hstack((result, mel))\n",
    "    \n",
    "    return result"
   ]
  },
  {
   "cell_type": "code",
   "execution_count": 9,
   "id": "79a8a029",
   "metadata": {
    "execution": {
     "iopub.execute_input": "2024-04-05T15:17:10.935120Z",
     "iopub.status.busy": "2024-04-05T15:17:10.934671Z",
     "iopub.status.idle": "2024-04-05T15:17:10.939419Z",
     "shell.execute_reply": "2024-04-05T15:17:10.938755Z"
    },
    "papermill": {
     "duration": 0.013629,
     "end_time": "2024-04-05T15:17:10.941401",
     "exception": false,
     "start_time": "2024-04-05T15:17:10.927772",
     "status": "completed"
    },
    "tags": []
   },
   "outputs": [],
   "source": [
    "def extract_features_filepaths(X_files, sample_rate=32000):\n",
    "    features = []\n",
    "    \n",
    "    for filepath in tqdm(X_files, desc='Processing files', total=len(X_files)):\n",
    "        # Process data with tqdm\n",
    "        audio_data, _ = librosa.load(filepath, sr=sample_rate)\n",
    "        audio_features = extract_features(audio_data, sample_rate)\n",
    "\n",
    "        # Append features and label\n",
    "        features.append(audio_features)\n",
    "            \n",
    "    X = np.array(features)  \n",
    "    \n",
    "    return X \n"
   ]
  },
  {
   "cell_type": "code",
   "execution_count": 10,
   "id": "78e76a0c",
   "metadata": {
    "execution": {
     "iopub.execute_input": "2024-04-05T15:17:10.955308Z",
     "iopub.status.busy": "2024-04-05T15:17:10.954721Z",
     "iopub.status.idle": "2024-04-05T15:36:23.856544Z",
     "shell.execute_reply": "2024-04-05T15:36:23.855355Z"
    },
    "papermill": {
     "duration": 1152.918838,
     "end_time": "2024-04-05T15:36:23.866317",
     "exception": false,
     "start_time": "2024-04-05T15:17:10.947479",
     "status": "completed"
    },
    "tags": []
   },
   "outputs": [
    {
     "name": "stderr",
     "output_type": "stream",
     "text": [
      "Processing files:   3%|▎         | 95/3136 [00:50<30:52,  1.64it/s]/opt/conda/lib/python3.10/site-packages/librosa/core/pitch.py:101: UserWarning: Trying to estimate tuning from empty frequency set.\n",
      "  return pitch_tuning(\n",
      "Processing files: 100%|██████████| 3136/3136 [19:12<00:00,  2.72it/s]\n"
     ]
    }
   ],
   "source": [
    "X_train = extract_features_filepaths(X_train_files)"
   ]
  },
  {
   "cell_type": "code",
   "execution_count": 11,
   "id": "1a9ba4e5",
   "metadata": {
    "execution": {
     "iopub.execute_input": "2024-04-05T15:36:24.295990Z",
     "iopub.status.busy": "2024-04-05T15:36:24.295219Z",
     "iopub.status.idle": "2024-04-05T15:36:24.302584Z",
     "shell.execute_reply": "2024-04-05T15:36:24.301324Z"
    },
    "papermill": {
     "duration": 0.196262,
     "end_time": "2024-04-05T15:36:24.304977",
     "exception": false,
     "start_time": "2024-04-05T15:36:24.108715",
     "status": "completed"
    },
    "tags": []
   },
   "outputs": [],
   "source": [
    "label_encoder = LabelEncoder()\n",
    "y_train_encoded = label_encoder.fit_transform(y_train)"
   ]
  },
  {
   "cell_type": "code",
   "execution_count": 12,
   "id": "bb5de35a",
   "metadata": {
    "execution": {
     "iopub.execute_input": "2024-04-05T15:36:24.684830Z",
     "iopub.status.busy": "2024-04-05T15:36:24.683562Z",
     "iopub.status.idle": "2024-04-05T15:36:24.688530Z",
     "shell.execute_reply": "2024-04-05T15:36:24.687806Z"
    },
    "papermill": {
     "duration": 0.198296,
     "end_time": "2024-04-05T15:36:24.690570",
     "exception": false,
     "start_time": "2024-04-05T15:36:24.492274",
     "status": "completed"
    },
    "tags": []
   },
   "outputs": [],
   "source": [
    "# X_val = extract_features_filepaths(X_val_files)\n",
    "# y_val_encoded = label_encoder.transform(y_val)"
   ]
  },
  {
   "cell_type": "markdown",
   "id": "d4279baa",
   "metadata": {
    "papermill": {
     "duration": 0.184308,
     "end_time": "2024-04-05T15:36:25.059283",
     "exception": false,
     "start_time": "2024-04-05T15:36:24.874975",
     "status": "completed"
    },
    "tags": []
   },
   "source": [
    "### Model"
   ]
  },
  {
   "cell_type": "code",
   "execution_count": 13,
   "id": "15ecfb3f",
   "metadata": {
    "execution": {
     "iopub.execute_input": "2024-04-05T15:36:25.431610Z",
     "iopub.status.busy": "2024-04-05T15:36:25.430980Z",
     "iopub.status.idle": "2024-04-05T15:37:20.962790Z",
     "shell.execute_reply": "2024-04-05T15:37:20.961650Z"
    },
    "papermill": {
     "duration": 55.992237,
     "end_time": "2024-04-05T15:37:21.235490",
     "exception": false,
     "start_time": "2024-04-05T15:36:25.243253",
     "status": "completed"
    },
    "tags": []
   },
   "outputs": [
    {
     "data": {
      "text/html": [
       "<style>#sk-container-id-1 {color: black;background-color: white;}#sk-container-id-1 pre{padding: 0;}#sk-container-id-1 div.sk-toggleable {background-color: white;}#sk-container-id-1 label.sk-toggleable__label {cursor: pointer;display: block;width: 100%;margin-bottom: 0;padding: 0.3em;box-sizing: border-box;text-align: center;}#sk-container-id-1 label.sk-toggleable__label-arrow:before {content: \"▸\";float: left;margin-right: 0.25em;color: #696969;}#sk-container-id-1 label.sk-toggleable__label-arrow:hover:before {color: black;}#sk-container-id-1 div.sk-estimator:hover label.sk-toggleable__label-arrow:before {color: black;}#sk-container-id-1 div.sk-toggleable__content {max-height: 0;max-width: 0;overflow: hidden;text-align: left;background-color: #f0f8ff;}#sk-container-id-1 div.sk-toggleable__content pre {margin: 0.2em;color: black;border-radius: 0.25em;background-color: #f0f8ff;}#sk-container-id-1 input.sk-toggleable__control:checked~div.sk-toggleable__content {max-height: 200px;max-width: 100%;overflow: auto;}#sk-container-id-1 input.sk-toggleable__control:checked~label.sk-toggleable__label-arrow:before {content: \"▾\";}#sk-container-id-1 div.sk-estimator input.sk-toggleable__control:checked~label.sk-toggleable__label {background-color: #d4ebff;}#sk-container-id-1 div.sk-label input.sk-toggleable__control:checked~label.sk-toggleable__label {background-color: #d4ebff;}#sk-container-id-1 input.sk-hidden--visually {border: 0;clip: rect(1px 1px 1px 1px);clip: rect(1px, 1px, 1px, 1px);height: 1px;margin: -1px;overflow: hidden;padding: 0;position: absolute;width: 1px;}#sk-container-id-1 div.sk-estimator {font-family: monospace;background-color: #f0f8ff;border: 1px dotted black;border-radius: 0.25em;box-sizing: border-box;margin-bottom: 0.5em;}#sk-container-id-1 div.sk-estimator:hover {background-color: #d4ebff;}#sk-container-id-1 div.sk-parallel-item::after {content: \"\";width: 100%;border-bottom: 1px solid gray;flex-grow: 1;}#sk-container-id-1 div.sk-label:hover label.sk-toggleable__label {background-color: #d4ebff;}#sk-container-id-1 div.sk-serial::before {content: \"\";position: absolute;border-left: 1px solid gray;box-sizing: border-box;top: 0;bottom: 0;left: 50%;z-index: 0;}#sk-container-id-1 div.sk-serial {display: flex;flex-direction: column;align-items: center;background-color: white;padding-right: 0.2em;padding-left: 0.2em;position: relative;}#sk-container-id-1 div.sk-item {position: relative;z-index: 1;}#sk-container-id-1 div.sk-parallel {display: flex;align-items: stretch;justify-content: center;background-color: white;position: relative;}#sk-container-id-1 div.sk-item::before, #sk-container-id-1 div.sk-parallel-item::before {content: \"\";position: absolute;border-left: 1px solid gray;box-sizing: border-box;top: 0;bottom: 0;left: 50%;z-index: -1;}#sk-container-id-1 div.sk-parallel-item {display: flex;flex-direction: column;z-index: 1;position: relative;background-color: white;}#sk-container-id-1 div.sk-parallel-item:first-child::after {align-self: flex-end;width: 50%;}#sk-container-id-1 div.sk-parallel-item:last-child::after {align-self: flex-start;width: 50%;}#sk-container-id-1 div.sk-parallel-item:only-child::after {width: 0;}#sk-container-id-1 div.sk-dashed-wrapped {border: 1px dashed gray;margin: 0 0.4em 0.5em 0.4em;box-sizing: border-box;padding-bottom: 0.4em;background-color: white;}#sk-container-id-1 div.sk-label label {font-family: monospace;font-weight: bold;display: inline-block;line-height: 1.2em;}#sk-container-id-1 div.sk-label-container {text-align: center;}#sk-container-id-1 div.sk-container {/* jupyter's `normalize.less` sets `[hidden] { display: none; }` but bootstrap.min.css set `[hidden] { display: none !important; }` so we also need the `!important` here to be able to override the default hidden behavior on the sphinx rendered scikit-learn.org. See: https://github.com/scikit-learn/scikit-learn/issues/21755 */display: inline-block !important;position: relative;}#sk-container-id-1 div.sk-text-repr-fallback {display: none;}</style><div id=\"sk-container-id-1\" class=\"sk-top-container\"><div class=\"sk-text-repr-fallback\"><pre>RandomForestClassifier(max_depth=20, min_samples_leaf=2, n_estimators=300,\n",
       "                       random_state=42)</pre><b>In a Jupyter environment, please rerun this cell to show the HTML representation or trust the notebook. <br />On GitHub, the HTML representation is unable to render, please try loading this page with nbviewer.org.</b></div><div class=\"sk-container\" hidden><div class=\"sk-item\"><div class=\"sk-estimator sk-toggleable\"><input class=\"sk-toggleable__control sk-hidden--visually\" id=\"sk-estimator-id-1\" type=\"checkbox\" checked><label for=\"sk-estimator-id-1\" class=\"sk-toggleable__label sk-toggleable__label-arrow\">RandomForestClassifier</label><div class=\"sk-toggleable__content\"><pre>RandomForestClassifier(max_depth=20, min_samples_leaf=2, n_estimators=300,\n",
       "                       random_state=42)</pre></div></div></div></div></div>"
      ],
      "text/plain": [
       "RandomForestClassifier(max_depth=20, min_samples_leaf=2, n_estimators=300,\n",
       "                       random_state=42)"
      ]
     },
     "execution_count": 13,
     "metadata": {},
     "output_type": "execute_result"
    }
   ],
   "source": [
    "# Train the classifier with the best parameters\n",
    "best_classifier = RandomForestClassifier(max_depth=20, min_samples_leaf=2, n_estimators=300, random_state=42)\n",
    "best_classifier.fit(X_train, y_train_encoded)"
   ]
  },
  {
   "cell_type": "code",
   "execution_count": 14,
   "id": "479a4506",
   "metadata": {
    "execution": {
     "iopub.execute_input": "2024-04-05T15:37:21.608404Z",
     "iopub.status.busy": "2024-04-05T15:37:21.607996Z",
     "iopub.status.idle": "2024-04-05T15:37:21.612698Z",
     "shell.execute_reply": "2024-04-05T15:37:21.611530Z"
    },
    "papermill": {
     "duration": 0.193915,
     "end_time": "2024-04-05T15:37:21.615065",
     "exception": false,
     "start_time": "2024-04-05T15:37:21.421150",
     "status": "completed"
    },
    "tags": []
   },
   "outputs": [],
   "source": [
    "# y_val_pred_proba = best_classifier.predict_proba(X_val)"
   ]
  },
  {
   "cell_type": "markdown",
   "id": "e7848f82",
   "metadata": {
    "papermill": {
     "duration": 0.186482,
     "end_time": "2024-04-05T15:37:21.989734",
     "exception": false,
     "start_time": "2024-04-05T15:37:21.803252",
     "status": "completed"
    },
    "tags": []
   },
   "source": [
    "## Testing and submission"
   ]
  },
  {
   "cell_type": "code",
   "execution_count": 15,
   "id": "938ce5e8",
   "metadata": {
    "execution": {
     "iopub.execute_input": "2024-04-05T15:37:22.360338Z",
     "iopub.status.busy": "2024-04-05T15:37:22.359909Z",
     "iopub.status.idle": "2024-04-05T15:37:22.365171Z",
     "shell.execute_reply": "2024-04-05T15:37:22.364387Z"
    },
    "papermill": {
     "duration": 0.193248,
     "end_time": "2024-04-05T15:37:22.367065",
     "exception": false,
     "start_time": "2024-04-05T15:37:22.173817",
     "status": "completed"
    },
    "tags": []
   },
   "outputs": [],
   "source": [
    "def extract_numbers(filename):\n",
    "    filename = filename.split('.')[0] # remove extension\n",
    "    \n",
    "    split = filename.split('_')\n",
    "    \n",
    "    if len(split) > 1:\n",
    "        return split[1]\n",
    "    elif len(split) == 1:\n",
    "        return split[0]"
   ]
  },
  {
   "cell_type": "code",
   "execution_count": 16,
   "id": "e5c010be",
   "metadata": {
    "execution": {
     "iopub.execute_input": "2024-04-05T15:37:22.745938Z",
     "iopub.status.busy": "2024-04-05T15:37:22.744887Z",
     "iopub.status.idle": "2024-04-05T15:37:22.759878Z",
     "shell.execute_reply": "2024-04-05T15:37:22.758466Z"
    },
    "papermill": {
     "duration": 0.204421,
     "end_time": "2024-04-05T15:37:22.762073",
     "exception": false,
     "start_time": "2024-04-05T15:37:22.557652",
     "status": "completed"
    },
    "tags": []
   },
   "outputs": [
    {
     "name": "stdout",
     "output_type": "stream",
     "text": [
      "Number of test files: 0\n"
     ]
    }
   ],
   "source": [
    "test_file_list = sorted(os.listdir(TEST_AUDIO_DIR))\n",
    "test_file_list = [file for file in test_file_list if file.endswith('.ogg')] # filter only ogg files\n",
    "\n",
    "if not submission:\n",
    "    test_file_list = test_file_list[:5] # take only 5 elements to go faster on debugging\n",
    "\n",
    "test_number_list = [extract_numbers(file) for file in test_file_list]\n",
    "    \n",
    "print(f'Number of test files: {len(test_file_list)}')"
   ]
  },
  {
   "cell_type": "code",
   "execution_count": 17,
   "id": "232287f2",
   "metadata": {
    "execution": {
     "iopub.execute_input": "2024-04-05T15:37:23.136568Z",
     "iopub.status.busy": "2024-04-05T15:37:23.135805Z",
     "iopub.status.idle": "2024-04-05T15:37:23.141559Z",
     "shell.execute_reply": "2024-04-05T15:37:23.140834Z"
    },
    "papermill": {
     "duration": 0.194032,
     "end_time": "2024-04-05T15:37:23.143590",
     "exception": false,
     "start_time": "2024-04-05T15:37:22.949558",
     "status": "completed"
    },
    "tags": []
   },
   "outputs": [],
   "source": [
    "# Function to split audio file into chunks of given duration\n",
    "def split_audio(path, duration, sr):\n",
    "    sig, rate = librosa.load(path, sr=sr)\n",
    "    chunk_size = duration * rate\n",
    "    chunks = [sig[i:i+chunk_size] for i in range(0, len(sig), chunk_size)]\n",
    "    return chunks"
   ]
  },
  {
   "cell_type": "code",
   "execution_count": 18,
   "id": "4eda89af",
   "metadata": {
    "execution": {
     "iopub.execute_input": "2024-04-05T15:37:23.588979Z",
     "iopub.status.busy": "2024-04-05T15:37:23.588223Z",
     "iopub.status.idle": "2024-04-05T15:37:23.599087Z",
     "shell.execute_reply": "2024-04-05T15:37:23.598082Z"
    },
    "papermill": {
     "duration": 0.274956,
     "end_time": "2024-04-05T15:37:23.601186",
     "exception": false,
     "start_time": "2024-04-05T15:37:23.326230",
     "status": "completed"
    },
    "tags": []
   },
   "outputs": [
    {
     "name": "stderr",
     "output_type": "stream",
     "text": [
      "Processing test files: 0it [00:00, ?it/s]\n"
     ]
    }
   ],
   "source": [
    "# This is where we will store our results\n",
    "\n",
    "pred = {'row_id': [], 'proba': []}\n",
    "\n",
    "# Process audio files and make predictions with tqdm progress bar\n",
    "for audio_file, file_number in tqdm(zip(test_file_list, test_number_list), total=len(test_file_list), desc='Processing test files'):\n",
    "    path = os.path.join(TEST_AUDIO_DIR, audio_file)\n",
    "        \n",
    "    # Split audio file into 5-second chunks\n",
    "    audio_chunks = split_audio(path, duration=5, sr=32000)\n",
    "    \n",
    "    # Assign the row_id which we need to do for each chunk\n",
    "    for i, chunk in enumerate(audio_chunks):\n",
    "        chunk_end_time = (i + 1) * 5\n",
    "        row_id = f\"soundscape_{file_number}_chunk{chunk_end_time}\"\n",
    "        pred['row_id'].append(row_id)\n",
    "        \n",
    "        X_test = extract_features(chunk)  # Assuming you have a function to extract features from audio data\n",
    "        X_test = np.expand_dims(X_test, 0)\n",
    "\n",
    "        y_pred_proba = best_classifier.predict_proba(X_test)"
   ]
  },
  {
   "cell_type": "code",
   "execution_count": 19,
   "id": "c2a7a447",
   "metadata": {
    "execution": {
     "iopub.execute_input": "2024-04-05T15:37:24.000136Z",
     "iopub.status.busy": "2024-04-05T15:37:23.999708Z",
     "iopub.status.idle": "2024-04-05T15:37:24.010677Z",
     "shell.execute_reply": "2024-04-05T15:37:24.009844Z"
    },
    "papermill": {
     "duration": 0.222293,
     "end_time": "2024-04-05T15:37:24.012828",
     "exception": false,
     "start_time": "2024-04-05T15:37:23.790535",
     "status": "completed"
    },
    "tags": []
   },
   "outputs": [],
   "source": [
    "# Convert the 'proba' array into a DataFrame\n",
    "results = pd.DataFrame(pred['proba'], columns=label_encoder.classes_)\n",
    "\n",
    "# Add the 'row_id' column to the DataFrame\n",
    "results['row_id'] = pred['row_id']\n",
    "\n",
    "# Reorder the columns so that 'row_id' comes first\n",
    "results = results[['row_id'] + list(label_encoder.classes_)]"
   ]
  },
  {
   "cell_type": "code",
   "execution_count": 20,
   "id": "5b4c27ba",
   "metadata": {
    "execution": {
     "iopub.execute_input": "2024-04-05T15:37:24.397205Z",
     "iopub.status.busy": "2024-04-05T15:37:24.396391Z",
     "iopub.status.idle": "2024-04-05T15:37:24.414446Z",
     "shell.execute_reply": "2024-04-05T15:37:24.413670Z"
    },
    "papermill": {
     "duration": 0.212054,
     "end_time": "2024-04-05T15:37:24.416446",
     "exception": false,
     "start_time": "2024-04-05T15:37:24.204392",
     "status": "completed"
    },
    "tags": []
   },
   "outputs": [
    {
     "data": {
      "text/html": [
       "<div>\n",
       "<style scoped>\n",
       "    .dataframe tbody tr th:only-of-type {\n",
       "        vertical-align: middle;\n",
       "    }\n",
       "\n",
       "    .dataframe tbody tr th {\n",
       "        vertical-align: top;\n",
       "    }\n",
       "\n",
       "    .dataframe thead th {\n",
       "        text-align: right;\n",
       "    }\n",
       "</style>\n",
       "<table border=\"1\" class=\"dataframe\">\n",
       "  <thead>\n",
       "    <tr style=\"text-align: right;\">\n",
       "      <th></th>\n",
       "      <th>row_id</th>\n",
       "      <th>asbfly</th>\n",
       "      <th>ashdro1</th>\n",
       "      <th>ashpri1</th>\n",
       "      <th>ashwoo2</th>\n",
       "      <th>asikoe2</th>\n",
       "      <th>asiope1</th>\n",
       "      <th>aspfly1</th>\n",
       "      <th>aspswi1</th>\n",
       "      <th>barfly1</th>\n",
       "      <th>...</th>\n",
       "      <th>whbwoo2</th>\n",
       "      <th>whcbar1</th>\n",
       "      <th>whiter2</th>\n",
       "      <th>whrmun</th>\n",
       "      <th>whtkin2</th>\n",
       "      <th>woosan</th>\n",
       "      <th>wynlau1</th>\n",
       "      <th>yebbab1</th>\n",
       "      <th>yebbul3</th>\n",
       "      <th>zitcis1</th>\n",
       "    </tr>\n",
       "  </thead>\n",
       "  <tbody>\n",
       "  </tbody>\n",
       "</table>\n",
       "<p>0 rows × 183 columns</p>\n",
       "</div>"
      ],
      "text/plain": [
       "Empty DataFrame\n",
       "Columns: [row_id, asbfly, ashdro1, ashpri1, ashwoo2, asikoe2, asiope1, aspfly1, aspswi1, barfly1, barswa, bcnher, bkcbul1, bkrfla1, bkskit1, bkwsti, bladro1, blaeag1, blakit1, blhori1, blnmon1, blrwar1, bncwoo3, brakit1, brasta1, brcful1, brfowl1, brnhao1, brnshr, brodro1, brwjac1, brwowl1, btbeat1, bwfshr1, categr, chbeat1, cohcuc1, comfla1, comgre, comior1, comkin1, commoo3, commyn, compea, comros, comsan, comtai1, copbar1, crbsun2, cregos1, crfbar1, crseag1, dafbab1, darter2, eaywag1, emedov2, eucdov, eurbla2, eurcoo, forwag1, gargan, gloibi, goflea1, graher1, grbeat1, grecou1, greegr, grefla1, grehor1, grejun2, grenig1, grewar3, grnsan, grnwar1, grtdro1, gryfra, grynig2, grywag, gybpri1, gyhcaf1, heswoo1, hoopoe, houcro1, houspa, inbrob1, indpit1, indrob1, indrol2, indtit1, ingori1, inpher1, insbab1, insowl1, integr, isbduc1, jerbus2, junbab2, junmyn1, junowl1, kenplo1, ...]\n",
       "Index: []\n",
       "\n",
       "[0 rows x 183 columns]"
      ]
     },
     "execution_count": 20,
     "metadata": {},
     "output_type": "execute_result"
    }
   ],
   "source": [
    "results"
   ]
  },
  {
   "cell_type": "code",
   "execution_count": 21,
   "id": "1591f683",
   "metadata": {
    "execution": {
     "iopub.execute_input": "2024-04-05T15:37:24.788790Z",
     "iopub.status.busy": "2024-04-05T15:37:24.788062Z",
     "iopub.status.idle": "2024-04-05T15:37:24.795316Z",
     "shell.execute_reply": "2024-04-05T15:37:24.794618Z"
    },
    "papermill": {
     "duration": 0.19554,
     "end_time": "2024-04-05T15:37:24.797326",
     "exception": false,
     "start_time": "2024-04-05T15:37:24.601786",
     "status": "completed"
    },
    "tags": []
   },
   "outputs": [],
   "source": [
    "# Convert our results to csv\n",
    "results.to_csv(\"submission.csv\", index=False)  "
   ]
  }
 ],
 "metadata": {
  "kaggle": {
   "accelerator": "none",
   "dataSources": [
    {
     "databundleVersionId": 8068726,
     "sourceId": 70203,
     "sourceType": "competition"
    }
   ],
   "dockerImageVersionId": 30673,
   "isGpuEnabled": false,
   "isInternetEnabled": false,
   "language": "python",
   "sourceType": "notebook"
  },
  "kernelspec": {
   "display_name": "Python 3",
   "language": "python",
   "name": "python3"
  },
  "language_info": {
   "codemirror_mode": {
    "name": "ipython",
    "version": 3
   },
   "file_extension": ".py",
   "mimetype": "text/x-python",
   "name": "python",
   "nbconvert_exporter": "python",
   "pygments_lexer": "ipython3",
   "version": "3.10.13"
  },
  "papermill": {
   "default_parameters": {},
   "duration": 1262.027308,
   "end_time": "2024-04-05T15:37:26.010855",
   "environment_variables": {},
   "exception": null,
   "input_path": "__notebook__.ipynb",
   "output_path": "__notebook__.ipynb",
   "parameters": {},
   "start_time": "2024-04-05T15:16:23.983547",
   "version": "2.5.0"
  }
 },
 "nbformat": 4,
 "nbformat_minor": 5
}
